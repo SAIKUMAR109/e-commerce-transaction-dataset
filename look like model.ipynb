{
 "cells": [
  {
   "cell_type": "code",
   "execution_count": 1,
   "id": "a7afa16d-095f-4ac9-b873-336ec805c97e",
   "metadata": {},
   "outputs": [],
   "source": [
    "import pandas as pd\n",
    "from sklearn.preprocessing import StandardScaler, OneHotEncoder\n",
    "from sklearn.compose import ColumnTransformer\n",
    "from sklearn.metrics.pairwise import cosine_similarity\n",
    "from datetime import datetime"
   ]
  },
  {
   "cell_type": "code",
   "execution_count": 2,
   "id": "469d1728-e895-4f8b-9225-5682b05ecb78",
   "metadata": {},
   "outputs": [],
   "source": [
    "customers = pd.read_csv('Customers.csv')\n",
    "products = pd.read_csv('Products.csv')\n",
    "transactions = pd.read_csv('Transactions.csv')"
   ]
  },
  {
   "cell_type": "code",
   "execution_count": 3,
   "id": "406617ec-7a12-4eb7-80ec-dee53dc798a1",
   "metadata": {},
   "outputs": [],
   "source": [
    "transactions_merged = pd.merge(transactions, products, on='ProductID', how='left')"
   ]
  },
  {
   "cell_type": "code",
   "execution_count": 4,
   "id": "7c8820ac-94c4-4068-bdaf-b96dcc2a9915",
   "metadata": {},
   "outputs": [],
   "source": [
    "transaction_features = transactions_merged.groupby('CustomerID').agg(\n",
    "    total_transactions=('TransactionID', 'count'),\n",
    "    total_spent=('TotalValue', 'sum'),\n",
    "    avg_quantity=('Quantity', 'mean'),\n",
    "    unique_categories=('Category', 'nunique')\n",
    ").reset_index()"
   ]
  },
  {
   "cell_type": "code",
   "execution_count": 5,
   "id": "b29e811c-9402-445e-a202-1f9972b5dbc7",
   "metadata": {},
   "outputs": [],
   "source": [
    "customers_all = pd.merge(customers, transaction_features, on='CustomerID', how='left')\n",
    "customers_all.fillna({\n",
    "    'total_transactions': 0,\n",
    "    'total_spent': 0,\n",
    "    'avg_quantity': 0,\n",
    "    'unique_categories': 0\n",
    "}, inplace=True)"
   ]
  },
  {
   "cell_type": "code",
   "execution_count": 6,
   "id": "a7b15971-dd74-4723-ab13-1493161165b3",
   "metadata": {},
   "outputs": [],
   "source": [
    "latest_date = pd.to_datetime(transactions['TransactionDate']).max()\n",
    "customers_all['SignupDate'] = pd.to_datetime(customers_all['SignupDate'])\n",
    "customers_all['tenure_days'] = (latest_date - customers_all['SignupDate']).dt.days"
   ]
  },
  {
   "cell_type": "code",
   "execution_count": 8,
   "id": "17d34bd9-55fa-4442-89af-8af8e725bc3f",
   "metadata": {},
   "outputs": [],
   "source": [
    "preprocessor = ColumnTransformer(\n",
    "    transformers=[\n",
    "        ('onehot', OneHotEncoder(), ['Region']),\n",
    "        ('scaler', StandardScaler(), ['tenure_days', 'total_transactions', 'total_spent', 'avg_quantity', 'unique_categories'])\n",
    "    ]\n",
    ")\n",
    "features = preprocessor.fit_transform(customers_all)"
   ]
  },
  {
   "cell_type": "code",
   "execution_count": 9,
   "id": "23b7103e-2ca2-4c86-b6ed-8442195eecd7",
   "metadata": {},
   "outputs": [],
   "source": [
    "similarity_matrix = cosine_similarity(features)\n"
   ]
  },
  {
   "cell_type": "code",
   "execution_count": 10,
   "id": "09b0f7c1-af7b-4487-b20d-2ff8b0e07c54",
   "metadata": {},
   "outputs": [],
   "source": [
    "lookalike_map = {}\n",
    "target_customers = [f'C00{i:02d}' for i in range(1, 21)]"
   ]
  },
  {
   "cell_type": "code",
   "execution_count": 11,
   "id": "c556132e-7848-438c-9507-a18f1e53ace0",
   "metadata": {},
   "outputs": [],
   "source": [
    "for cust_id in target_customers:\n",
    "    if cust_id not in customers_all['CustomerID'].values:\n",
    "        lookalike_map[cust_id] = []\n",
    "        continue\n",
    "    \n",
    "    cust_index = customers_all[customers_all['CustomerID'] == cust_id].index[0]\n",
    "    sim_scores = list(enumerate(similarity_matrix[cust_index]))"
   ]
  },
  {
   "cell_type": "code",
   "execution_count": 14,
   "id": "e54a1a8a-2146-4884-a59b-95158e9e9171",
   "metadata": {},
   "outputs": [],
   "source": [
    "sorted_scores = sorted(sim_scores, key=lambda x: x[1], reverse=True)[1:]  # Skip the first (self)\n",
    "top_3 = sorted_scores[:3]"
   ]
  },
  {
   "cell_type": "code",
   "execution_count": 22,
   "id": "9a2bc160-b1a0-46b6-a5e3-04d65546fbad",
   "metadata": {},
   "outputs": [],
   "source": [
    "recommendations = []\n",
    "for idx, score in top_3:\n",
    "    similar_cust_id = customers_all.iloc[idx]['CustomerID']\n",
    "recommendations.append((similar_cust_id, round(score, 4)))\n",
    "    \n",
    "lookalike_map[cust_id] = recommendations"
   ]
  },
  {
   "cell_type": "code",
   "execution_count": 25,
   "id": "e95cc5c3-44cc-4cfc-af23-40d28d76e411",
   "metadata": {},
   "outputs": [],
   "source": [
    "with open('Lookalike.csv', 'w') as f:\n",
    "    f.write(\"CustomerID,SimilarCustomers\\n\")\n",
    "    for cust_id, similar in lookalike_map.items():\n",
    "        similar_str = ','.join([f\"{cid}:{score}\" for cid, score in similar])\n",
    "        f.write(f\"{cust_id},{similar_str}\\n\")"
   ]
  },
  {
   "cell_type": "markdown",
   "id": "07e846ad-eaa2-4a82-98eb-eb7d2196a653",
   "metadata": {},
   "source": [
    "CustomerID,SimilarCustomers\n",
    "C0001,C0012:0.921,C0004:0.879,C0018:0.856\n",
    "C0002,C0007:0.934,C0015:0.902,C0020:0.891\n",
    "..."
   ]
  }
 ],
 "metadata": {
  "kernelspec": {
   "display_name": "Python 3 (ipykernel)",
   "language": "python",
   "name": "python3"
  },
  "language_info": {
   "codemirror_mode": {
    "name": "ipython",
    "version": 3
   },
   "file_extension": ".py",
   "mimetype": "text/x-python",
   "name": "python",
   "nbconvert_exporter": "python",
   "pygments_lexer": "ipython3",
   "version": "3.12.7"
  }
 },
 "nbformat": 4,
 "nbformat_minor": 5
}
